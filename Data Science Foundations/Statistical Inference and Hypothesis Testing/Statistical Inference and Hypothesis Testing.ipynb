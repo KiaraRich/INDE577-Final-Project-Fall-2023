{
 "cells": [
  {
   "cell_type": "markdown",
   "id": "bb52b789",
   "metadata": {},
   "source": [
    "# Statistical Inference and Hypothesis Testing\n",
    "\n",
    "**Statistical Inference**\n",
    "\n",
    "Statistical inference is the process of drawing conclusions or making predictions about a population based on a sample of data taken from that population. It involves using statistical methods to analyze and interpret data, allowing researchers to make generalizations or infer properties of the entire population from which the sample is drawn. There are two main branches of statistical inference:\n",
    "\n",
    "1. Estimation\n",
    "    - Estimation involves estimating unknown parameters of a population based on sample data. This can include point estimation, where a single value is used to estimate a parameter, or interval estimation, where a range of values is provided as an estimate along with a level of confidence.\n",
    "\n",
    "2.  Hypothesis Testing\n",
    "    - Hypothesis testing is a method for making inferences about a population based on a sample of data. It involves testing a specific hypothesis about the population parameter to determine whether there is enough evidence in the sample data to reject or fail to reject the null hypothesis.\n",
    "    \n",
    "**Hypothesis Testing**\n",
    "\n",
    "Hypothesis testing is a formal statistical method for making decisions or inferences about population parameters based on sample data. \n",
    "\n",
    "1. Formulate Hypotheses:\n",
    "    - Null Hypothesis $(H_0)$: This is a statement of no effect or no difference, often representing the status quo or a default assumption.\n",
    "    - Alternative Hypothesis $(H_1)$ or $(H_a)$: This is a statement that contradicts the null hypothesis and represents the effect or difference that the researcher is trying to detect.\n",
    "    \n",
    "2. Choose Significance Level $(\\alpha)$:\n",
    "    - The significance level, often denoted by $\\alpha$, represents the probability of making a Type I error (incorrectly rejecting a true null hypothesis). Commonly used values for $\\alpha$ include 0.05 and 0.01.\n",
    "    \n",
    "3. Collect and Analyze Data:\n",
    "    - Collect a sample of data and perform statistical analysis, depending on the nature of the hypothesis being tested (e.g., t-test, chi-square test, etc.).\n",
    "    \n",
    "4. Calculate Test Statistic and P-value:\n",
    "    - Compute a test statistic that summarizes the information from the sample and calculate the p-value, which represents the probability of obtaining the observed results (or more extreme) if the null hypothesis is true.\n",
    "    \n",
    "5. Make a Decision:\n",
    "    - Compare the p-value to the significance level:\n",
    "        - If $p≤α$, reject the null hypothesis. There is enough evidence to suggest that the alternative hypothesis is true.\n",
    "        - If $p>α$, fail to reject the null hypothesis. There is not enough evidence to suggest that the alternative hypothesis is true."
   ]
  },
  {
   "cell_type": "code",
   "execution_count": 1,
   "id": "19860a59",
   "metadata": {},
   "outputs": [
    {
     "name": "stdout",
     "output_type": "stream",
     "text": [
      "Sample Heights: [172.48357077 169.30867849 173.23844269 177.61514928 168.82923313\n",
      " 168.82931522 177.89606408 173.83717365 167.65262807 172.71280022\n",
      " 167.68291154 167.67135123 171.20981136 160.43359878 161.37541084\n",
      " 167.18856235 164.9358444  171.57123666 165.45987962 162.93848149\n",
      " 177.32824384 168.8711185  170.33764102 162.87625907 167.27808638\n",
      " 170.55461295 164.24503211 171.87849009 166.99680655 168.54153125]\n",
      "\n",
      "Null Hypothesis: Population mean height is 170 cm\n",
      "\n",
      "Alternative Hypothesis: Population mean height is not 170 cm\n",
      "\n",
      "Significance Level (alpha): 0.05\n",
      "\n",
      "Results of the t-test:\n",
      "\n",
      "T-statistic: -1.1450173670383608\n",
      "\n",
      "P-value: 0.26156414618800256\n",
      "\n",
      "Fail to reject the null hypothesis. There is not enough evidence to suggest a significant difference.\n"
     ]
    }
   ],
   "source": [
    "import numpy as np\n",
    "from scipy import stats\n",
    "\n",
    "# Set a random seed for reproducibility\n",
    "np.random.seed(42)\n",
    "\n",
    "# Generate a random sample of heights (assuming a normal distribution)\n",
    "sample_size = 30\n",
    "population_mean = 170\n",
    "sample_heights = np.random.normal(loc=population_mean, scale=5, size=sample_size)\n",
    "\n",
    "# Display the generated sample heights\n",
    "print(\"Sample Heights:\", sample_heights)\n",
    "\n",
    "# Define the null hypothesis: population mean height is equal to 170 cm\n",
    "# Define the alternative hypothesis: population mean height is not equal to 170 cm\n",
    "null_hypothesis = \"Population mean height is 170 cm\"\n",
    "alternative_hypothesis = \"Population mean height is not 170 cm\"\n",
    "\n",
    "# Set the significance level (alpha)\n",
    "alpha = 0.05\n",
    "\n",
    "# Perform a two-sided t-test\n",
    "t_statistic, p_value = stats.ttest_1samp(sample_heights, population_mean)\n",
    "\n",
    "# Display the results of the hypothesis test\n",
    "print(\"\\nNull Hypothesis:\", null_hypothesis)\n",
    "print(\"\\nAlternative Hypothesis:\", alternative_hypothesis)\n",
    "print(\"\\nSignificance Level (alpha):\", alpha)\n",
    "print(\"\\nResults of the t-test:\")\n",
    "print(\"\\nT-statistic:\", t_statistic)\n",
    "print(\"\\nP-value:\", p_value)\n",
    "\n",
    "# Check if the p-value is less than the significance level\n",
    "if p_value < alpha:\n",
    "    print(\"\\nReject the null hypothesis. There is enough evidence to suggest a significant difference.\")\n",
    "else:\n",
    "    print(\"\\nFail to reject the null hypothesis. There is not enough evidence to suggest a significant difference.\")"
   ]
  },
  {
   "cell_type": "markdown",
   "id": "a255091b",
   "metadata": {},
   "source": [
    "# Conclusion\n",
    "\n",
    "In conclusion, we conducted a hypothesis test to investigate whether the average height of a randomly selected sample of individuals is significantly different from a known population mean of 170 cm. The two-sided t-test yielded a t-statistic of ```t_statistic``` and a p-value of ```p_value```. With a pre-defined significance level $(\\alpha)$ of 0.05, we compared the p-value to alpha and found that ```p_value``` $\\leq \\alpha$. Consequently, we reject/fail to reject the null hypothesis, indicating that there is sufficient/insufficient evidence to suggest a significant difference in the average height of the sample compared to the population mean. "
   ]
  }
 ],
 "metadata": {
  "kernelspec": {
   "display_name": "Python 3 (ipykernel)",
   "language": "python",
   "name": "python3"
  },
  "language_info": {
   "codemirror_mode": {
    "name": "ipython",
    "version": 3
   },
   "file_extension": ".py",
   "mimetype": "text/x-python",
   "name": "python",
   "nbconvert_exporter": "python",
   "pygments_lexer": "ipython3",
   "version": "3.9.12"
  }
 },
 "nbformat": 4,
 "nbformat_minor": 5
}
