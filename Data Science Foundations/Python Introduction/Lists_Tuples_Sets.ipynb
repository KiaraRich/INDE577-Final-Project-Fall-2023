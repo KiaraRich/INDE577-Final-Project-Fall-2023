{
 "cells": [
  {
   "cell_type": "markdown",
   "id": "620ad8eb",
   "metadata": {},
   "source": [
    "# Lists, Tuples, and Sets\n",
    "\n",
    "In Python, lists, tuples, and sets are three different types of data structures that are used to store collections of items. Each has its own characteristics and use cases.\n",
    "\n",
    "**Lists:**\n",
    "\n",
    "A list is a mutable, ordered collection of items. Mutable means that you can change the contents of a list by adding or removing elements. Lists are created using square brackets [  ].\n",
    "\n",
    "* Mutable: Lists are mutable, meaning you can modify, add, or remove elements after the list is created. This makes them suitable for situations where you need to frequently update or alter the contents of the collection.\n",
    "\n",
    "* Ordered: Lists maintain the order of elements based on their indices. You can access elements by their position in the list, starting from index 0.\n",
    "\n",
    "* Use Cases: Lists are suitable when you need to store and manipulate an ordered collection of items. For example, a list could represent a sequence of tasks, a collection of numbers, or any other ordered set of elements."
   ]
  },
  {
   "cell_type": "code",
   "execution_count": 1,
   "id": "bdd5c238",
   "metadata": {},
   "outputs": [
    {
     "name": "stdout",
     "output_type": "stream",
     "text": [
      "1\n"
     ]
    }
   ],
   "source": [
    "# Creating a list\n",
    "my_list = [1, 2, 3, 4, 5]\n",
    "\n",
    "# Accessing elements\n",
    "print(my_list[0])  # Output: 1\n",
    "\n",
    "# Modifying elements\n",
    "my_list[1] = 10\n",
    "\n",
    "# Adding elements\n",
    "my_list.append(6)\n",
    "\n",
    "# Removing elements\n",
    "my_list.remove(3)\n",
    "\n",
    "# List slicing\n",
    "subset = my_list[1:3]  # Subset containing elements at index 1 and 2"
   ]
  },
  {
   "cell_type": "markdown",
   "id": "03519015",
   "metadata": {},
   "source": [
    "**Tuples:**\n",
    "\n",
    "A tuple is an immutable, ordered collection of items. Immutable means that once a tuple is created, you cannot change its contents. Tuples are created using parentheses (   ).\n",
    "\n",
    "* Immutable: Tuples, once created, cannot be modified. You cannot add, remove, or change elements in a tuple. This immutability provides a level of data integrity.\n",
    "\n",
    "* Ordered: Like lists, tuples maintain the order of elements. You can access elements by their position in the tuple.\n",
    "\n",
    "* Use Cases: Tuples are useful when you want to create a collection of items that should not be changed during the program's execution. For example, coordinates (x, y) in a 2D space or representing fixed configurations."
   ]
  },
  {
   "cell_type": "code",
   "execution_count": 2,
   "id": "551b6ea4",
   "metadata": {},
   "outputs": [
    {
     "name": "stdout",
     "output_type": "stream",
     "text": [
      "1\n"
     ]
    }
   ],
   "source": [
    "# Creating a tuple\n",
    "my_tuple = (1, 2, 3, 4, 5)\n",
    "\n",
    "# Accessing elements\n",
    "print(my_tuple[0])  # Output: 1\n",
    "\n",
    "# Tuples are immutable - the following line would result in an error\n",
    "# my_tuple[1] = 10"
   ]
  },
  {
   "cell_type": "markdown",
   "id": "1a446e05",
   "metadata": {},
   "source": [
    "**Sets:**\n",
    "\n",
    "A set is an unordered collection of unique items. Sets do not allow duplicate elements. Sets are created using curly braces {} or by using the set() constructor.\n",
    "\n",
    "* Mutable: Sets are mutable, allowing you to add or remove elements after creation. However, the elements themselves must be immutable (e.g., numbers, strings).\n",
    "\n",
    "* Unordered: Sets do not maintain any order of elements. The order in which elements are added is not guaranteed to be preserved.\n",
    "\n",
    "* Unique Elements: Sets do not allow duplicate elements. If you try to add an element that already exists in the set, it won't be added again.\n",
    "\n",
    "* Use Cases: Sets are useful when dealing with collections where uniqueness is crucial. They are handy for tasks like removing duplicates from a sequence, testing membership, or performing set operations like union and intersection."
   ]
  },
  {
   "cell_type": "code",
   "execution_count": 3,
   "id": "078dfae7",
   "metadata": {},
   "outputs": [],
   "source": [
    "# Creating a set\n",
    "my_set = {1, 2, 3, 4, 5}\n",
    "\n",
    "# Adding elements\n",
    "my_set.add(6)\n",
    "\n",
    "# Removing elements\n",
    "my_set.remove(3)\n",
    "\n",
    "# Set operations\n",
    "set1 = {1, 2, 3}\n",
    "set2 = {3, 4, 5}\n",
    "\n",
    "union_set = set1.union(set2)        # {1, 2, 3, 4, 5}\n",
    "intersection_set = set1.intersection(set2)  # {3}"
   ]
  },
  {
   "cell_type": "markdown",
   "id": "976d6826",
   "metadata": {},
   "source": [
    "# Conclusion\n",
    "\n",
    "Lists are mutable and ordered. Tuples are immutable and ordered. Sets are mutable, unordered, and do not allow duplicates."
   ]
  }
 ],
 "metadata": {
  "kernelspec": {
   "display_name": "Python 3 (ipykernel)",
   "language": "python",
   "name": "python3"
  },
  "language_info": {
   "codemirror_mode": {
    "name": "ipython",
    "version": 3
   },
   "file_extension": ".py",
   "mimetype": "text/x-python",
   "name": "python",
   "nbconvert_exporter": "python",
   "pygments_lexer": "ipython3",
   "version": "3.9.12"
  }
 },
 "nbformat": 4,
 "nbformat_minor": 5
}
