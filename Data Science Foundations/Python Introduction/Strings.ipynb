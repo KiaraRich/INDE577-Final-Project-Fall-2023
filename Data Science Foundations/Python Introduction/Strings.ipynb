{
 "cells": [
  {
   "cell_type": "markdown",
   "id": "e8098666",
   "metadata": {},
   "source": [
    "# Basics of Strings\n",
    "\n",
    "In Python, a string is a sequence of characters enclosed in single (' '), double (\" \"), or triple (''' ' '' or \"\"\" \"\"\" ) quotes. Strings are one of the fundamental data types in Python and are used to represent text."
   ]
  },
  {
   "cell_type": "markdown",
   "id": "2b34ec3f",
   "metadata": {},
   "source": [
    "**Creating Strings**\n",
    "\n",
    "You can create strings using single or double quotes. Triple quotes are used for multiline strings."
   ]
  },
  {
   "cell_type": "code",
   "execution_count": 7,
   "id": "cd95ab6f",
   "metadata": {},
   "outputs": [],
   "source": [
    "# Single quotes\n",
    "single_quoted_string = 'Hello, World!'\n",
    "\n",
    "# Double quotes\n",
    "double_quoted_string = \"Python is awesome!\"\n",
    "\n",
    "# Triple quotes (multiline string)\n",
    "multiline_string = '''This is a\n",
    "multiline string\n",
    "in Python.'''"
   ]
  },
  {
   "cell_type": "markdown",
   "id": "55488bda",
   "metadata": {},
   "source": [
    "**Accessing Characters in a String**\n",
    "\n",
    "You can access individual characters in a string using indexing. Python uses zero-based indexing, so the first character is at index 0."
   ]
  },
  {
   "cell_type": "code",
   "execution_count": 8,
   "id": "a4bf2f6b",
   "metadata": {},
   "outputs": [],
   "source": [
    "my_string = \"Python\"\n",
    "\n",
    "first_char = my_string[0]  # 'P'\n",
    "second_char = my_string[1]  # 'y'"
   ]
  },
  {
   "cell_type": "markdown",
   "id": "43b272d1",
   "metadata": {},
   "source": [
    "**String Slicing**\n",
    "\n",
    "You can also extract a substring (a slice) from a string using the slicing syntax."
   ]
  },
  {
   "cell_type": "code",
   "execution_count": 9,
   "id": "7aa40971",
   "metadata": {},
   "outputs": [],
   "source": [
    "my_string = \"Python\"\n",
    "\n",
    "substring = my_string[1:4]  # 'yth'"
   ]
  },
  {
   "cell_type": "markdown",
   "id": "1c766369",
   "metadata": {},
   "source": [
    "**String Concatenation**\n",
    "\n",
    "You can concatenate (combine) strings using the + operator."
   ]
  },
  {
   "cell_type": "code",
   "execution_count": 10,
   "id": "231a75d7",
   "metadata": {},
   "outputs": [],
   "source": [
    "greeting = \"Hello\"\n",
    "name = \"Alice\"\n",
    "full_greeting = greeting + \", \" + name + \"!\"  # 'Hello, Alice!'"
   ]
  },
  {
   "cell_type": "markdown",
   "id": "60243d54",
   "metadata": {},
   "source": [
    "**String Methods**\n",
    "\n",
    "Python provides numerous built-in methods for working with strings. Here are a few examples:"
   ]
  },
  {
   "cell_type": "code",
   "execution_count": 11,
   "id": "1df082a4",
   "metadata": {},
   "outputs": [],
   "source": [
    "my_string = \"   Python is fun!   \"\n",
    "\n",
    "# Removing leading and trailing whitespaces\n",
    "trimmed_string = my_string.strip()\n",
    "\n",
    "# Converting to uppercase and lowercase\n",
    "uppercased = my_string.upper()\n",
    "lowercased = my_string.lower()\n",
    "\n",
    "# Finding the index of a substring\n",
    "index = my_string.find(\"is\")\n",
    "\n",
    "# Replacing a substring\n",
    "new_string = my_string.replace(\"fun\", \"amazing\")"
   ]
  },
  {
   "cell_type": "markdown",
   "id": "c8124ae6",
   "metadata": {},
   "source": [
    "**String Formatting**\n",
    "\n",
    "You can format strings using f-strings (formatted string literals) or the format() method."
   ]
  },
  {
   "cell_type": "code",
   "execution_count": 12,
   "id": "9b59e8a6",
   "metadata": {},
   "outputs": [],
   "source": [
    "name = \"Bob\"\n",
    "age = 30\n",
    "\n",
    "formatted_string = f\"Hello, my name is {name} and I am {age} years old.\"\n",
    "# or\n",
    "formatted_string = \"Hello, my name is {} and I am {} years old.\".format(name, age)"
   ]
  },
  {
   "cell_type": "markdown",
   "id": "70f2c961",
   "metadata": {},
   "source": [
    "# Conclusion\n",
    "\n",
    "Strings are versatile and play a crucial role in various programming tasks. Feel free to experiment and explore more advanced string operations and methods as you continue learning Python."
   ]
  }
 ],
 "metadata": {
  "kernelspec": {
   "display_name": "Python 3 (ipykernel)",
   "language": "python",
   "name": "python3"
  },
  "language_info": {
   "codemirror_mode": {
    "name": "ipython",
    "version": 3
   },
   "file_extension": ".py",
   "mimetype": "text/x-python",
   "name": "python",
   "nbconvert_exporter": "python",
   "pygments_lexer": "ipython3",
   "version": "3.9.12"
  }
 },
 "nbformat": 4,
 "nbformat_minor": 5
}
