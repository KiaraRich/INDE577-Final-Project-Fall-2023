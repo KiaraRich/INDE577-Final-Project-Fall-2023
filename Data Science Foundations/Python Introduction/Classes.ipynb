{
 "cells": [
  {
   "cell_type": "markdown",
   "id": "800b4087",
   "metadata": {},
   "source": [
    "# Classes\n",
    "\n",
    "In Python, a class is a blueprint for creating objects. Objects are instances of a class, and classes define the properties (attributes) and behaviors (methods) that objects of that type will have."
   ]
  },
  {
   "cell_type": "markdown",
   "id": "c039cc9f",
   "metadata": {},
   "source": [
    "1. Class Definition (```class Dog```)\n",
    "    - Defines a new class named ```Dog```. \n",
    "    \n",
    "2. Class Attribute (```species```)\n",
    "    - Class attribute is a property shared by all instances of the class.\n",
    "    - In this case, species is a class attribute that all dogs share.\n",
    "\n",
    "3. Constructor Method (```__init__```)\n",
    "    - A special method that gets called when an instance of the class is created ```(Dog(name, age))```.\n",
    "    - Used to initialize the instance's attributes.\n",
    "    - ```self``` refers to the instance being created.\n",
    "    \n",
    "4. Instance Attributes (```self.name```, ```self.age```)\n",
    "    - Attributes specific to each instance of the class.\n",
    "    - ```name``` and ```age``` are instance attributes.\n",
    "\n",
    "5. Instance Methods (```bark()```, ```describe()```)\n",
    "    - Functions defined inside the class that operate on instance data.\n",
    "    - ```bark()``` and ```describe()``` are instance methods.\n",
    "\n",
    "6. Creating Instances (```dog1```, ```dog2```)\n",
    "    - Instances of the Dog class are created with specific values for ```name``` and ```age```.\n",
    "    \n",
    "7. Accessing Attributes and Calling Methods:\n",
    "    - Use dot notation (```dog1.name```, ```dog1.bark()```) to access instance attributes and call instance methods.\n",
    "\n",
    "8. Class Attribute Access\n",
    "    - Access the class attribute using the class name (```dog1.species```)."
   ]
  },
  {
   "cell_type": "code",
   "execution_count": 1,
   "id": "a2e37ed2",
   "metadata": {},
   "outputs": [
    {
     "name": "stdout",
     "output_type": "stream",
     "text": [
      "Buddy says: Woof!\n",
      "Max is 5 years old.\n",
      "Buddy belongs to the Canis familiaris species.\n"
     ]
    }
   ],
   "source": [
    "# Define a basic class\n",
    "class Dog:\n",
    "    # Class attribute\n",
    "    species = \"Canis familiaris\"\n",
    "\n",
    "    # Constructor method (initialize instance attributes)\n",
    "    def __init__(self, name, age):\n",
    "        self.name = name\n",
    "        self.age = age\n",
    "\n",
    "    # Instance method\n",
    "    def bark(self):\n",
    "        return \"Woof!\"\n",
    "\n",
    "    # Another instance method\n",
    "    def describe(self):\n",
    "        return f\"{self.name} is {self.age} years old.\"\n",
    "\n",
    "# Create instances of the Dog class\n",
    "dog1 = Dog(name=\"Buddy\", age=3)\n",
    "dog2 = Dog(name=\"Max\", age=5)\n",
    "\n",
    "# Access instance attributes and call instance methods\n",
    "print(f\"{dog1.name} says: {dog1.bark()}\")  # Output: Buddy says: Woof!\n",
    "print(dog2.describe())  # Output: Max is 5 years old.\n",
    "\n",
    "# Access class attribute\n",
    "print(f\"{dog1.name} belongs to the {dog1.species} species.\")  # Output: Buddy belongs to the Canis familiaris species."
   ]
  },
  {
   "cell_type": "markdown",
   "id": "03f653b5",
   "metadata": {},
   "source": [
    "# Conclusion\n",
    "\n",
    "Classes in Python are a fundamental concept in object-oriented programming (OOP) that allow you to bundle data and functionality together. They provide a blueprint for creating objects, instances of the class, each with its own set of attributes and methods. \n",
    "\n",
    "* Class Definition:\n",
    "    * Use the class keyword to define a new class.\n",
    "* Attributes:\n",
    "    * Class attributes are shared by all instances of the class.\n",
    "    * Instance attributes are specific to each instance and are initialized in the constructor method (```__init__```).\n",
    "* Methods:\n",
    "    * Methods are functions defined within the class and operate on the instance data.\n",
    "    * Instance methods take self as the first parameter, representing the instance itself.\n",
    "* Creating Instances:\n",
    "    * Instances of a class are created by calling the class as if it were a function (```obj = ClassName()```).\n",
    "    * The constructor method (```__init__```) is automatically called when an instance is created.\n",
    "* Accessing Members:\n",
    "    * Use dot notation to access instance attributes (```obj.attribute```) and call instance methods (```obj.method()```).\n",
    "    \n",
    "Classes provide a way to structure code, promote code reuse, and model real-world entities in a program. As you advance in your Python programming journey, understanding and effectively using classes and OOP principles will become crucial for building more complex and maintainable software."
   ]
  }
 ],
 "metadata": {
  "kernelspec": {
   "display_name": "Python 3 (ipykernel)",
   "language": "python",
   "name": "python3"
  },
  "language_info": {
   "codemirror_mode": {
    "name": "ipython",
    "version": 3
   },
   "file_extension": ".py",
   "mimetype": "text/x-python",
   "name": "python",
   "nbconvert_exporter": "python",
   "pygments_lexer": "ipython3",
   "version": "3.9.12"
  }
 },
 "nbformat": 4,
 "nbformat_minor": 5
}
