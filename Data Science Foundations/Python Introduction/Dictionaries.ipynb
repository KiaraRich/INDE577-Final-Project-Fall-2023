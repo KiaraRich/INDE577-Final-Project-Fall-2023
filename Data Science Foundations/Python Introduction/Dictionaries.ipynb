{
 "cells": [
  {
   "cell_type": "markdown",
   "id": "82536e72",
   "metadata": {},
   "source": [
    "# Python Dictionaries\n",
    "\n",
    "In Python, a dictionary is a built-in data type that allows you to store and retrieve key-value pairs. It is a mutable, unordered collection of items, and each item in a dictionary is a key-value pair. Keys are unique within a dictionary, and they are used to access the corresponding values."
   ]
  },
  {
   "cell_type": "code",
   "execution_count": 2,
   "id": "e7ee4230",
   "metadata": {},
   "outputs": [
    {
     "name": "stdout",
     "output_type": "stream",
     "text": [
      "Dictionary: {'name': 'John', 'age': 25, 'city': 'New York'}\n",
      "Name: John\n",
      "Age: 25\n",
      "City: New York\n",
      "Updated Age: 26\n",
      "Gender key not found\n",
      "Removed City: New York\n",
      "Updated Dictionary: {'name': 'John', 'age': 26}\n",
      "\n",
      "Iterating through keys and values:\n",
      "name: John\n",
      "age: 26\n"
     ]
    }
   ],
   "source": [
    "# Creating an empty dictionary\n",
    "# my_dict = {} initializes an empty dictionary.\n",
    "my_dict = {}\n",
    "\n",
    "# Adding key-value pairs to the dictionary\n",
    "# my_dict['name'] = 'John' adds a key-value pair to the dictionary.\n",
    "my_dict['name'] = 'John'\n",
    "my_dict['age'] = 25\n",
    "my_dict['city'] = 'New York'\n",
    "\n",
    "# Displaying the dictionary\n",
    "print(\"Dictionary:\", my_dict)\n",
    "\n",
    "# Accessing values using keys\n",
    "# my_dict['name'] retrieves the value associated with the 'name' key.\n",
    "print(\"Name:\", my_dict['name'])\n",
    "print(\"Age:\", my_dict['age'])\n",
    "print(\"City:\", my_dict['city'])\n",
    "\n",
    "# Updating the value of a key\n",
    "# my_dict['age'] = 26 updates the value associated with the 'age' key.\n",
    "my_dict['age'] = 26\n",
    "print(\"Updated Age:\", my_dict['age'])\n",
    "\n",
    "# Checking if a key exists in the dictionary\n",
    "# if 'gender' in my_dict checks if the 'gender' key exists in the dictionary.\n",
    "if 'gender' in my_dict:\n",
    "    print(\"Gender:\", my_dict['gender'])\n",
    "else:\n",
    "    print(\"Gender key not found\")\n",
    "\n",
    "# Removing a key-value pair from the dictionary\n",
    "# my_dict.pop('city') removes the key-value pair with the key 'city' from the dictionary.\n",
    "removed_value = my_dict.pop('city')\n",
    "print(\"Removed City:\", removed_value)\n",
    "print(\"Updated Dictionary:\", my_dict)\n",
    "\n",
    "# Iterating through keys and values in the dictionary\n",
    "# for key, value in my_dict.items(): iterates through all key-value pairs in the dictionary.\n",
    "print(\"\\nIterating through keys and values:\")\n",
    "for key, value in my_dict.items():\n",
    "    print(f\"{key}: {value}\")"
   ]
  },
  {
   "cell_type": "markdown",
   "id": "b24a1bb8",
   "metadata": {},
   "source": [
    "# Conclusion\n",
    "\n",
    "Dictionaries in Python are a powerful and flexible data structure that allows you to store and retrieve data using key-value pairs. They provide efficient access to values based on unique keys, support dynamic updates, and are versatile for various programming tasks. Understanding how to create, manipulate, and iterate through dictionaries is essential for effective Python programming, especially when dealing with structured data and associative relationships."
   ]
  }
 ],
 "metadata": {
  "kernelspec": {
   "display_name": "Python 3 (ipykernel)",
   "language": "python",
   "name": "python3"
  },
  "language_info": {
   "codemirror_mode": {
    "name": "ipython",
    "version": 3
   },
   "file_extension": ".py",
   "mimetype": "text/x-python",
   "name": "python",
   "nbconvert_exporter": "python",
   "pygments_lexer": "ipython3",
   "version": "3.9.12"
  }
 },
 "nbformat": 4,
 "nbformat_minor": 5
}
