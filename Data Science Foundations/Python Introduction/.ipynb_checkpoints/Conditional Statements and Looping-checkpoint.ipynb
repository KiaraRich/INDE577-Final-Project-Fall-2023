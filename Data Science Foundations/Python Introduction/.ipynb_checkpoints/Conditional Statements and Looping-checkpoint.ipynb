{
 "cells": [
  {
   "cell_type": "markdown",
   "id": "fdd124b2",
   "metadata": {},
   "source": [
    "# Conditional Statements and Looping\n",
    "\n",
    "In Python, conditional statements and loops are fundamental control structures that allow you to make decisions and repeat actions based on certain conditions.\n",
    "\n",
    "## Conditional Statements\n",
    "\n",
    "Conditional statements are used to make decisions in your code. The most common conditional statements in Python are ```if```, ```elif``` (```else if```), and ```else```."
   ]
  },
  {
   "cell_type": "code",
   "execution_count": 1,
   "id": "ba2fc571",
   "metadata": {},
   "outputs": [
    {
     "name": "stdout",
     "output_type": "stream",
     "text": [
      "x is positive\n",
      "y is zero\n"
     ]
    }
   ],
   "source": [
    "# Example of a simple if statement\n",
    "x = 10\n",
    "if x > 0:\n",
    "    print(\"x is positive\")\n",
    "\n",
    "# Example of if-elif-else statement\n",
    "y = 0\n",
    "if y > 0:\n",
    "    print(\"y is positive\")\n",
    "elif y == 0:\n",
    "    print(\"y is zero\")\n",
    "else:\n",
    "    print(\"y is negative\")"
   ]
  },
  {
   "cell_type": "markdown",
   "id": "f8990484",
   "metadata": {},
   "source": [
    "In the first example, it checks if the variable $x$ is greater than $0$. If it is, it prints a message. In the second example, it checks multiple conditions using ```if```, ```elif```, and ```else```.\n",
    "\n",
    "## Loops\n",
    "\n",
    "Loops are used to repeatedly execute a block of code. In Python, there are two main types of loops: ```for``` and ```while```.\n",
    "\n",
    "### For Loop\n",
    "\n",
    "The for loop is used to iterate over a sequence (like a list, tuple, string, etc.)."
   ]
  },
  {
   "cell_type": "code",
   "execution_count": 2,
   "id": "15757e4c",
   "metadata": {},
   "outputs": [
    {
     "name": "stdout",
     "output_type": "stream",
     "text": [
      "apple\n",
      "banana\n",
      "cherry\n"
     ]
    }
   ],
   "source": [
    "# Exmple of a for loop\n",
    "fruits = [\"apple\", \"banana\", \"cherry\"]\n",
    "for fruit in fruits:\n",
    "    print(fruit)"
   ]
  },
  {
   "cell_type": "markdown",
   "id": "a9bdf662",
   "metadata": {},
   "source": [
    "### While Loop\n",
    "\n",
    "The while loop is used to repeatedly execute a block of code as long as a condition is true. This loop prints the value of count as long as it is less than 5."
   ]
  },
  {
   "cell_type": "code",
   "execution_count": 3,
   "id": "363b6070",
   "metadata": {},
   "outputs": [
    {
     "name": "stdout",
     "output_type": "stream",
     "text": [
      "0\n",
      "1\n",
      "2\n",
      "3\n",
      "4\n"
     ]
    }
   ],
   "source": [
    "# Example of a while loop\n",
    "count = 0\n",
    "while count < 5:\n",
    "    print(count)\n",
    "    count += 1"
   ]
  },
  {
   "cell_type": "markdown",
   "id": "887fbc29",
   "metadata": {},
   "source": [
    "# Conclusion\n",
    "\n",
    "Conditional statements and loops are crucial components of Python programming that allow you to control the flow of your code. Conditional statements, such as ```if```, ```elif```, and ```else```, help you make decisions based on certain conditions. On the other hand, loops, including ```for``` and ```while```, enable you to repeat a block of code multiple times. Combining these control structures with informative comments enhances the readability and clarity of your code, making it easier to understand and maintain. "
   ]
  }
 ],
 "metadata": {
  "kernelspec": {
   "display_name": "Python 3 (ipykernel)",
   "language": "python",
   "name": "python3"
  },
  "language_info": {
   "codemirror_mode": {
    "name": "ipython",
    "version": 3
   },
   "file_extension": ".py",
   "mimetype": "text/x-python",
   "name": "python",
   "nbconvert_exporter": "python",
   "pygments_lexer": "ipython3",
   "version": "3.9.12"
  }
 },
 "nbformat": 4,
 "nbformat_minor": 5
}
